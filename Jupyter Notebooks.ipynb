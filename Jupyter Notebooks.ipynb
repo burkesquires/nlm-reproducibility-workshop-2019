{
 "cells": [
  {
   "cell_type": "markdown",
   "metadata": {
    "slideshow": {
     "slide_type": "slide"
    }
   },
   "source": [
    "# NIH Reproducible Research Workshop 2019"
   ]
  },
  {
   "cell_type": "markdown",
   "metadata": {
    "slideshow": {
     "slide_type": "skip"
    }
   },
   "source": [
    "---"
   ]
  },
  {
   "cell_type": "markdown",
   "metadata": {
    "slideshow": {
     "slide_type": "slide"
    }
   },
   "source": [
    "## Jupyter Notebooks facilitate Literate Computing"
   ]
  },
  {
   "cell_type": "markdown",
   "metadata": {
    "slideshow": {
     "slide_type": "fragment"
    }
   },
   "source": [
    "Literate programming is a **programming paradigm** introduced by Donald Knuth in which **a program is given as an explanation of the program logic in a natural language, such as English, interspersed with snippets of macros and traditional source code, from which a compilable source code can be generated**.\n",
    "The literate programming paradigm represents a move away from writing programs in the manner and order imposed by the computer, and instead **enables programmers to develop programs in the order demanded by the logic and flow of their thoughts. Literate programs are written as an uninterrupted exposition of logic in an ordinary human language, much like the text of an essay, in which macros are included to hide abstractions and traditional source code.**\n",
    "\n",
    "https://en.wikipedia.org/wiki/Literate_programming"
   ]
  },
  {
   "cell_type": "markdown",
   "metadata": {
    "slideshow": {
     "slide_type": "slide"
    }
   },
   "source": [
    "### Cells in Jupyter Notebooks"
   ]
  },
  {
   "cell_type": "markdown",
   "metadata": {
    "slideshow": {
     "slide_type": "fragment"
    }
   },
   "source": [
    "This is a **markdown cell**. [Markdown](https://en.wikipedia.org/wiki/Markdown) is a **lightweight markup language with plain text formatting syntax**. Its design allows it to be **converted to many output formats**, but the original tool by the same name only supports HTML. Markdown is often used to format readme files, for writing messages in online discussion forums, and to create rich text using a plain text editor."
   ]
  },
  {
   "attachments": {},
   "cell_type": "markdown",
   "metadata": {
    "slideshow": {
     "slide_type": "fragment"
    }
   },
   "source": [
    "I can include images, etc in a markdown cell as you can see below."
   ]
  },
  {
   "cell_type": "code",
   "execution_count": 20,
   "metadata": {
    "slideshow": {
     "slide_type": "slide"
    }
   },
   "outputs": [
    {
     "name": "stdout",
     "output_type": "stream",
     "text": [
      "I can type python code in a code cell.\n",
      "ttagggttagggttagggttagggttagggttagggttagggttagggttagggttaggg\n"
     ]
    }
   ],
   "source": [
    "# This is a code cell\n",
    "\n",
    "print(\"I can type python code in a code cell.\")\n",
    "\n",
    "dna = \"ttaggg\"\n",
    "\n",
    "print(dna * 10)"
   ]
  },
  {
   "cell_type": "code",
   "execution_count": 17,
   "metadata": {
    "slideshow": {
     "slide_type": "slide"
    }
   },
   "outputs": [
    {
     "name": "stdout",
     "output_type": "stream",
     "text": [
      "Populating the interactive namespace from numpy and matplotlib\n"
     ]
    },
    {
     "data": {
      "image/png": "[encoded data removed]",
      "text/plain": [
       "<Figure size 432x288 with 1 Axes>"
      ]
     },
     "metadata": {
      "needs_background": "light"
     },
     "output_type": "display_data"
    }
   ],
   "source": [
    "%pylab inline\n",
    "import numpy as np\n",
    "\n",
    "ax = subplot(111)\n",
    "x = np.arange(0.0, 5.0, 0.01)\n",
    "y = np.cos(x * np.pi)\n",
    "lines, = plot(x, y, lw=3)\n",
    "ylim(-1.5, 1.5)\n",
    "show()"
   ]
  },
  {
   "cell_type": "code",
   "execution_count": 18,
   "metadata": {
    "slideshow": {
     "slide_type": "slide"
    }
   },
   "outputs": [
    {
     "name": "stdout",
     "output_type": "stream",
     "text": [
      "Jupyter Notebooks.ipynb\r\n",
      "NLM Reprosuciblity Workshop 2019 V2.key\r\n",
      "NLM Reprosuciblity Workshop 2019 V2.pdf\r\n",
      "NLM Reprosuciblity Workshop 2019 V2.pptx\r\n",
      "Spring 2019 Schedule for Reproducibility Workshop.docx\r\n",
      "os_taxonomy.png\r\n",
      "rdmanagement.png\r\n",
      "taxonomy_tdm methods.png\r\n",
      "taxonomy_tdm.png\r\n"
     ]
    }
   ],
   "source": [
    "# I can also execute bash commands using magic\n",
    "\n",
    "!ls"
   ]
  },
  {
   "cell_type": "markdown",
   "metadata": {
    "slideshow": {
     "slide_type": "slide"
    }
   },
   "source": [
    "### How to get / install Jupyter notebooks?"
   ]
  },
  {
   "cell_type": "markdown",
   "metadata": {
    "slideshow": {
     "slide_type": "fragment"
    }
   },
   "source": [
    "- Use [Anaconda Python / R Distribution](https://www.anaconda.com/distribution/)"
   ]
  },
  {
   "cell_type": "markdown",
   "metadata": {
    "slideshow": {
     "slide_type": "slide"
    }
   },
   "source": [
    "### Getting in and Getting out"
   ]
  },
  {
   "cell_type": "markdown",
   "metadata": {
    "slideshow": {
     "slide_type": "fragment"
    }
   },
   "source": [
    "- Getting in\n",
    "    - Start `jupyter notebook` software\n",
    "    - Navigate to notebook\n",
    "    - Open notebook\n",
    "    \n",
    "- Getting out\n",
    "    - Close and halt notebook or \n",
    "    - Close browser"
   ]
  },
  {
   "cell_type": "markdown",
   "metadata": {
    "slideshow": {
     "slide_type": "slide"
    }
   },
   "source": [
    "- Alternatively you can try [`nteract`](https://nteract.io) Mac software to double-click a notebook"
   ]
  },
  {
   "cell_type": "markdown",
   "metadata": {
    "slideshow": {
     "slide_type": "slide"
    }
   },
   "source": [
    "### Jupyter Ecosystem"
   ]
  },
  {
   "cell_type": "markdown",
   "metadata": {
    "slideshow": {
     "slide_type": "fragment"
    }
   },
   "source": [
    "- Jupyter Notebook\n",
    "    - Jupyter notebooks autosave \n",
    "    - A single checkpoint that you can go back to\n",
    "- Kernels - [125+ different langugages are supported](https://github.com/jupyter/jupyter/wiki/Jupyter-kernels)\n",
    "- `nbviewer` - export notebooks"
   ]
  },
  {
   "cell_type": "markdown",
   "metadata": {
    "slideshow": {
     "slide_type": "slide"
    }
   },
   "source": [
    "- [Jupyter lab](https://jupyterlab.readthedocs.io/en/stable/)\n",
    "\n",
    "<img src=\"https://jupyterlab.readthedocs.io/en/stable/_images/jupyterlab.png\" alt=\"Jupyter lab\" style=\"width: 600px;\"/>"
   ]
  },
  {
   "cell_type": "markdown",
   "metadata": {
    "slideshow": {
     "slide_type": "slide"
    }
   },
   "source": [
    "[<img src=\"https://bioconda.github.io/_images/bioconda.png\"  alt=\"Jupyter lab\" style=\"width: 300px;\"/>](https://bioconda.github.io) enables you to use the `conda` installer to install bioinformatics (unix) programs with ease"
   ]
  },
  {
   "cell_type": "markdown",
   "metadata": {
    "slideshow": {
     "slide_type": "fragment"
    }
   },
   "source": [
    "`conda config --add channels defaults`\n",
    "\n",
    "`conda config --add channels bioconda`\n",
    "\n",
    "`conda config --add channels conda-forge`\n",
    "\n",
    "`conda install bwa`"
   ]
  },
  {
   "cell_type": "markdown",
   "metadata": {
    "slideshow": {
     "slide_type": "slide"
    }
   },
   "source": [
    "### Jupyter Notebooks to Reproducible Science"
   ]
  },
  {
   "cell_type": "markdown",
   "metadata": {
    "slideshow": {
     "slide_type": "fragment"
    }
   },
   "source": [
    "- Enable one to write or start to write manuscripts\n",
    "- Enable preliminary data analysis that can then become analysis\n",
    "- `run all` cells\n",
    "- Export notebook options\n",
    "- Enable easier review\n",
    "- Make sharing easy"
   ]
  },
  {
   "cell_type": "markdown",
   "metadata": {
    "slideshow": {
     "slide_type": "slide"
    }
   },
   "source": [
    "### `mybinder`"
   ]
  },
  {
   "cell_type": "markdown",
   "metadata": {
    "slideshow": {
     "slide_type": "fragment"
    }
   },
   "source": [
    "- https://mybinder.org\n",
    "- Example: https://github.com/burkesquires/scientific_python_training"
   ]
  },
  {
   "cell_type": "markdown",
   "metadata": {
    "slideshow": {
     "slide_type": "slide"
    }
   },
   "source": [
    "### Resources"
   ]
  },
  {
   "cell_type": "markdown",
   "metadata": {
    "slideshow": {
     "slide_type": "fragment"
    }
   },
   "source": [
    "Gallery of interesting Jupyter notebooks\n",
    "- https://github.com/jupyter/jupyter/wiki/A-gallery-of-interesting-Jupyter-Notebooks\n",
    "\n",
    "_nbviewer_\n",
    "- http://nbviewer.jupyter.org\n",
    "  "
   ]
  },
  {
   "cell_type": "markdown",
   "metadata": {
    "slideshow": {
     "slide_type": "fragment"
    }
   },
   "source": [
    "GitHub projects with Jupyter notebooks\n",
    "- https://github.com/search?q=ipynb\n",
    "\n",
    "Pubmed article using or mentioning Jupyter, IPython notebooks:\n",
    "- https://www.ncbi.nlm.nih.gov/pubmed?term=ipynb%20OR%20jupyter%20OR%20python&cmd=correctspelling"
   ]
  },
  {
   "cell_type": "markdown",
   "metadata": {
    "slideshow": {
     "slide_type": "fragment"
    }
   },
   "source": [
    "Jupyter Notebook trianing\n",
    "- https://github.com/burkesquires/jupyter_training\n",
    "\n",
    "Reproducible Research Curriculum, The Carpentries\n",
    "- https://github.com/Reproducible-Science-Curriculum\n",
    "\n",
    "Build a bioinformatics workflow from scratch - Hour of Code Presentation\n",
    "- https://github.com/burkesquires/Build-a-Reproducible-Jupyter-Workflow-From-Scratch"
   ]
  },
  {
   "cell_type": "markdown",
   "metadata": {
    "slideshow": {
     "slide_type": "slide"
    }
   },
   "source": [
    "`RISE` extension\n",
    "- https://github.com/damianavila/RISE"
   ]
  },
  {
   "cell_type": "markdown",
   "metadata": {},
   "source": [
    "Pat Schloss _Nature_ paper and notebook\n",
    "- _[Dynamics and associations of microbial community types across the human body](https://www.nature.com/articles/nature13178)_, Tao Ding & Patrick D. Schloss, _Nature_ volume 509, pages 357–360 (15 May 2014)\n",
    "- [Notebook](https://nbviewer.jupyter.org/gist/pschloss/9815766/notebook.ipynb)"
   ]
  }
 ],
 "metadata": {
  "kernelspec": {
   "display_name": "Python 3",
   "language": "python",
   "name": "python3"
  },
  "language_info": {
   "codemirror_mode": {
    "name": "ipython",
    "version": 3
   },
   "file_extension": ".py",
   "mimetype": "text/x-python",
   "name": "python",
   "nbconvert_exporter": "python",
   "pygments_lexer": "ipython3",
   "version": "3.7.3"
  }
 },
 "nbformat": 4,
 "nbformat_minor": 2
}
